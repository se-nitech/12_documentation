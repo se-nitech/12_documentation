{
 "cells": [
  {
   "cell_type": "markdown",
   "metadata": {},
   "source": [
    "# Markdownの文法\n",
    "\n",
    "## リスト\n",
    "\n",
    "- 箇条書き\n",
    "- こうなります\n",
    "  - インデントを2つ下げると\n",
    "  - レベルが上がります\n",
    "- 箇条書き\n",
    "  - 箇条書き\n",
    "    - 箇条書き"
   ]
  },
  {
   "cell_type": "markdown",
   "metadata": {},
   "source": [
    "## コード\n",
    "\n",
    "コードを入力する場合は以下のようなコードブロックを使います．\n",
    "\n",
    "```python:test.py\n",
    "def myfunc(a, b, c):\n",
    "    a = b + c\n",
    "    print(a)\n",
    "```"
   ]
  },
  {
   "cell_type": "markdown",
   "metadata": {},
   "source": [
    "## 数式\n",
    "\n",
    "レンダラによっては$y = f(x)$のようなLaTeX数式も対応しています．インラインだけでなく，行立ての数式\n",
    "$$\n",
    "y = \\int_a^b f(x, t) dt\n",
    "$$\n",
    "も対応しています．数式番号は対応していないことがほとんどです（拡張機能が使える場合もある）．"
   ]
  },
  {
   "cell_type": "code",
   "execution_count": null,
   "metadata": {},
   "outputs": [],
   "source": []
  }
 ],
 "metadata": {
  "kernelspec": {
   "name": "python395jvsc74a57bd04cd7ab41f5fca4b9b44701077e38c5ffd31fe66a6cab21e0214b68d958d0e462",
   "display_name": "Python 3.9.5 64-bit"
  },
  "language_info": {
   "codemirror_mode": {
    "name": "ipython",
    "version": 3
   },
   "file_extension": ".py",
   "mimetype": "text/x-python",
   "name": "python",
   "nbconvert_exporter": "python",
   "pygments_lexer": "ipython3",
   "version": "3.9.5"
  },
  "metadata": {
   "interpreter": {
    "hash": "4cd7ab41f5fca4b9b44701077e38c5ffd31fe66a6cab21e0214b68d958d0e462"
   }
  }
 },
 "nbformat": 4,
 "nbformat_minor": 2
}